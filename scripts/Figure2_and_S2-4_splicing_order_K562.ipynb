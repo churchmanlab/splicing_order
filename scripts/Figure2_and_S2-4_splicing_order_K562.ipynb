{
 "cells": [
  {
   "cell_type": "code",
   "execution_count": null,
   "id": "a3b0d290",
   "metadata": {},
   "outputs": [],
   "source": [
    "\"\"\"\n",
    "\n",
    "Date: April 20, 2022\n",
    "\n",
    "Author: Karine Choquet\n",
    "\n",
    "This script will make datasets and plots for Figures 2 and S2-4 of the splicing order manuscript\n",
    "\n",
    "\n",
    "\n",
    "\"\"\""
   ]
  },
  {
   "cell_type": "code",
   "execution_count": 1,
   "id": "fc6ffafe",
   "metadata": {},
   "outputs": [],
   "source": [
    "import numpy as np\n",
    "import pandas as pd\n",
    "import pysam\n",
    "import seaborn as sns\n",
    "sns.set_style(\"white\")\n",
    "sns.set_style(\"ticks\")\n",
    "\n",
    "import matplotlib.pyplot as plt\n",
    "import re\n",
    "%matplotlib inline\n",
    "plt.rcParams['pdf.fonttype'] = 42\n",
    "plt.rcParams['ps.fonttype'] = 42\n",
    "plt.rc('xtick', labelsize=14) \n",
    "plt.rc('ytick', labelsize=14)\n",
    "\n",
    "import matplotlib.ticker as ticker\n",
    "from matplotlib.ticker import ScalarFormatter\n",
    "\n",
    "import math\n",
    "\n",
    "import pybedtools\n",
    "from pybedtools import BedTool\n",
    "\n",
    "from collections import Counter\n",
    "\n",
    "import random\n",
    "\n",
    "\n",
    "import scipy\n",
    "from scipy import stats\n",
    "from scipy.stats import ttest_ind, ttest_ind_from_stats\n",
    "from scipy.special import stdtr\n",
    "from scipy.stats import chi2_contingency\n",
    "\n",
    "import itertools\n",
    "\n",
    "from statsmodels.stats.multitest import multipletests\n",
    "\n",
    "from more_itertools import consecutive_groups\n",
    "\n",
    "from tqdm import tqdm\n",
    "\n",
    "import random\n",
    "from numpy.random import choice"
   ]
  },
  {
   "cell_type": "markdown",
   "id": "da764abc",
   "metadata": {},
   "source": [
    "## Supplemental Tables and data for plotting in R"
   ]
  },
  {
   "cell_type": "code",
   "execution_count": 2,
   "id": "946e594c",
   "metadata": {},
   "outputs": [],
   "source": [
    "# Load intron features and gene_names df\n",
    "hg38_intron_df = pd.read_table(\"/path/to/annotation_files/hg38_all_intron_features.txt\")\n",
    "gene_names_df = pd.read_table(\"/path/to/annotation_files/hg38_UCSC_refGene_names.txt\")\n",
    "gene_names_df.columns = ['gene_name','gene_id']\n",
    "\n",
    "hg38_intron_df['gene_id'] = hg38_intron_df['gene'].str.split(\"\\\\.\").str[0]\n",
    "\n",
    "gene_names_df = gene_names_df.merge(hg38_intron_df, on='gene_id')[['gene_name','gene','intron_total']].drop_duplicates().reset_index(drop=True)\n",
    "\n",
    "hg38_intron_coord = hg38_intron_df.copy()[['chrom','start','end','gene','intron_pos']]\n",
    "\n",
    "\n"
   ]
  },
  {
   "cell_type": "code",
   "execution_count": 3,
   "id": "35b1acd0",
   "metadata": {},
   "outputs": [],
   "source": [
    "# Load results from cluster from identifying splicing order paths in both replicates\n",
    "path_df_tmp = pd.read_table('/path/to/K562_chromatin_splicing_paths_non_consecutive_introns.2mergedReps.RefSeq.max4introns.txt')\n",
    "path_df = path_df_tmp[['sample_name','gene','gene_name','analyzed_introns','n_analyzed_introns','full_path','full_path_score','rank']].drop_duplicates().sort_values(by=['gene_name','analyzed_introns','rank']).reset_index(drop=True)\n",
    "\n"
   ]
  },
  {
   "cell_type": "code",
   "execution_count": 4,
   "id": "378c099e",
   "metadata": {},
   "outputs": [],
   "source": [
    "# Remove duplicates intron groups because they belong to different transcripts\n",
    "intron_groups = path_df[['gene','gene_name','analyzed_introns','n_analyzed_introns']].drop_duplicates().reset_index(drop=True)\n",
    "\n",
    "intron_groups_3 = intron_groups[intron_groups['n_analyzed_introns']==3].reset_index(drop=True)\n",
    "intron_groups_3['int1'] = intron_groups_3['analyzed_introns'].str.split(\"_\").str[0].astype(int)\n",
    "intron_groups_3['int2'] = intron_groups_3['analyzed_introns'].str.split(\"_\").str[1].astype(int)\n",
    "intron_groups_3['int3'] = intron_groups_3['analyzed_introns'].str.split(\"_\").str[2].astype(int)\n",
    "\n",
    "intron_groups_3 = intron_groups_3.merge(hg38_intron_coord, left_on=['gene','int1'], right_on=['gene','intron_pos']).rename(columns={'chrom':'chrom_1', 'start':'start_1', 'end':'end_1'})\n",
    "intron_groups_3 = intron_groups_3.merge(hg38_intron_coord, left_on=['gene','int2'], right_on=['gene','intron_pos']).rename(columns={'chrom':'chrom_2', 'start':'start_2', 'end':'end_2'})\n",
    "intron_groups_3 = intron_groups_3.merge(hg38_intron_coord, left_on=['gene','int3'], right_on=['gene','intron_pos']).rename(columns={'chrom':'chrom_3', 'start':'start_3', 'end':'end_3'})\n",
    "\n",
    "intron_groups_3 = intron_groups_3.sort_values(by=['gene','int1','int2','int3']).drop_duplicates(subset=['chrom_1','start_1','end_1','chrom_2','start_2','end_2','chrom_3','start_3','end_3']).reset_index(drop=True)\n",
    "\n",
    "intron_groups_4 = intron_groups[intron_groups['n_analyzed_introns']==4].reset_index(drop=True)\n",
    "intron_groups_4['int1'] = intron_groups_4['analyzed_introns'].str.split(\"_\").str[0].astype(int)\n",
    "intron_groups_4['int2'] = intron_groups_4['analyzed_introns'].str.split(\"_\").str[1].astype(int)\n",
    "intron_groups_4['int3'] = intron_groups_4['analyzed_introns'].str.split(\"_\").str[2].astype(int)\n",
    "intron_groups_4['int4'] = intron_groups_4['analyzed_introns'].str.split(\"_\").str[3].astype(int)\n",
    "\n",
    "intron_groups_4 = intron_groups_4.merge(hg38_intron_coord, left_on=['gene','int1'], right_on=['gene','intron_pos']).rename(columns={'chrom':'chrom_1', 'start':'start_1', 'end':'end_1'})\n",
    "intron_groups_4 = intron_groups_4.merge(hg38_intron_coord, left_on=['gene','int2'], right_on=['gene','intron_pos']).rename(columns={'chrom':'chrom_2', 'start':'start_2', 'end':'end_2'})\n",
    "intron_groups_4 = intron_groups_4.merge(hg38_intron_coord, left_on=['gene','int3'], right_on=['gene','intron_pos']).rename(columns={'chrom':'chrom_3', 'start':'start_3', 'end':'end_3'})\n",
    "intron_groups_4 = intron_groups_4.merge(hg38_intron_coord, left_on=['gene','int4'], right_on=['gene','intron_pos']).rename(columns={'chrom':'chrom_4', 'start':'start_4', 'end':'end_4'})\n",
    "\n",
    "intron_groups_4 = intron_groups_4.sort_values(by=['gene','int1','int2','int3','int4']).drop_duplicates(subset=['chrom_1','start_1','end_1','chrom_2','start_2','end_2','chrom_3','start_3','end_3','chrom_4','start_4','end_4']).reset_index(drop=True)\n",
    "\n",
    "fields = ['gene','gene_name','analyzed_introns','n_analyzed_introns']\n",
    "intron_groups_nodup = pd.concat([intron_groups_3[fields],intron_groups_4[fields]]).sort_values(by=['gene_name','analyzed_introns']).reset_index(drop=True)\n",
    "\n",
    "# Merge back with paths\n",
    "path_df_tmp_nodup = path_df_tmp.merge(intron_groups_nodup, on=['gene','gene_name','analyzed_introns','n_analyzed_introns'])\n",
    "path_df_nodup = path_df_tmp_nodup[['sample_name','gene','gene_name','analyzed_introns','n_analyzed_introns','full_path','full_path_score','rank']].drop_duplicates().sort_values(by=['gene_name','analyzed_introns','rank']).reset_index(drop=True)\n",
    "\n",
    "# Reformat the table to have replicates side by side\n",
    "path_df_rep1 = path_df_nodup[path_df_nodup['sample_name']=='chr_rep1'].reset_index(drop=True)\n",
    "path_df_rep2 = path_df_nodup[path_df_nodup['sample_name']=='chr_rep2'].reset_index(drop=True)\n",
    "\n",
    "path_df_piv = path_df_rep1.merge(path_df_rep2, on=['gene_name','gene','analyzed_introns','n_analyzed_introns','full_path'])\n",
    "\n",
    "# Retrieve the paths that are reproducible (same rank in both samples)\n",
    "path_df_reprod = path_df_piv[(path_df_piv['rank_x']==path_df_piv['rank_y'])].reset_index(drop=True)\n"
   ]
  },
  {
   "cell_type": "code",
   "execution_count": 5,
   "id": "097cede7",
   "metadata": {},
   "outputs": [],
   "source": [
    "# Convert back into a long format dataframe\n",
    "path_df_reprod_rep1 = path_df_reprod[['sample_name_x','gene','gene_name','analyzed_introns','n_analyzed_introns','full_path','full_path_score_x','rank_x']].rename(columns={'sample_name_x':'sample_name','full_path_score_x':'full_path_score','rank_x':'rank'})\n",
    "path_df_reprod_rep2 = path_df_reprod[['sample_name_y','gene','gene_name','analyzed_introns','n_analyzed_introns','full_path','full_path_score_y','rank_y']].rename(columns={'sample_name_y':'sample_name','full_path_score_y':'full_path_score','rank_y':'rank'})\n",
    "\n",
    "path_df_reprod_m = pd.concat([path_df_reprod_rep1,path_df_reprod_rep2]).reset_index(drop=True)"
   ]
  },
  {
   "cell_type": "code",
   "execution_count": 6,
   "id": "69a18921",
   "metadata": {},
   "outputs": [
    {
     "name": "stdout",
     "output_type": "stream",
     "text": [
      "number of intron groups:  669\n",
      "number of transcripts:  448\n",
      "number of genes:  325\n"
     ]
    }
   ],
   "source": [
    "path_df_reprod_top = path_df_reprod_m[path_df_reprod_m['rank']==1]\n",
    "\n",
    "print(\"number of intron groups: \", len(path_df_reprod_top[['gene','gene_name','analyzed_introns']].drop_duplicates()))\n",
    "print(\"number of transcripts: \", len(path_df_reprod_top[['gene','gene_name']].drop_duplicates()))\n",
    "print(\"number of genes: \", len(path_df_reprod_top[['gene_name']].drop_duplicates()))"
   ]
  },
  {
   "cell_type": "code",
   "execution_count": 41,
   "id": "2f4a709c",
   "metadata": {},
   "outputs": [],
   "source": [
    "# Get reproducible paths (same path in both replicates)\n",
    "reprod_paths = path_df_reprod_top[['gene','analyzed_introns']].drop_duplicates().reset_index(drop=True)\n",
    "path_df_reprod_m_final = path_df_nodup.merge(reprod_paths,on=['gene','analyzed_introns']).sort_values(by=['gene','analyzed_introns','rank']).reset_index(drop=True)"
   ]
  },
  {
   "cell_type": "code",
   "execution_count": null,
   "id": "78faf402",
   "metadata": {},
   "outputs": [],
   "source": []
  },
  {
   "cell_type": "code",
   "execution_count": 44,
   "id": "86b12dc6",
   "metadata": {},
   "outputs": [],
   "source": [
    "# Write to file for plotting in R\n",
    "path_df_reprod_m_final.to_csv('/path/to/TableS3_K562_splicing_order_paths.txt', sep=\"\\t\", header=True, index=False)\n"
   ]
  },
  {
   "cell_type": "code",
   "execution_count": 45,
   "id": "7c4fd3a7",
   "metadata": {},
   "outputs": [],
   "source": [
    "# Load results from random splicing orders\n",
    "results_df = pd.read_table(\"/path/to/K562_chromatin_splicing_paths_non_consecutive_introns.2mergedReps.RefSeq.max4introns.random_paths.txt\")"
   ]
  },
  {
   "cell_type": "code",
   "execution_count": 46,
   "id": "ad8e11f3",
   "metadata": {},
   "outputs": [],
   "source": [
    "# Calculate average splicing order score per replicate\n",
    "path_df_reprod_final = path_df_reprod_m_final.pivot_table(index=['gene','gene_name','analyzed_introns','n_analyzed_introns','full_path'],columns='sample_name',values='full_path_score').reset_index()\n",
    "path_df_reprod_final['avg_score'] = path_df_reprod_final[['chr_rep1','chr_rep2']].mean(axis=1)\n"
   ]
  },
  {
   "cell_type": "code",
   "execution_count": 49,
   "id": "4b9441d8",
   "metadata": {},
   "outputs": [],
   "source": [
    "# Function to calculate Shannon diversity index and Evenness\n",
    "# Formulas taken from here: https://www.tutorialspoint.com/statistics/shannon_wiener_diversity_index.htm\n",
    "# https://en.wikipedia.org/wiki/Species_evenness\n",
    "\n",
    "def SDI(path_scores, max_paths):\n",
    "    \n",
    "    H = round(-(np.sum(np.log(path_scores) * path_scores)),2) \n",
    "    max_H = round(np.log(max_paths),2)\n",
    "    \n",
    "    E = round(H/max_H,2)\n",
    "    \n",
    "    return(H, E)\n",
    "    \n",
    "    \n",
    "    "
   ]
  },
  {
   "cell_type": "code",
   "execution_count": 50,
   "id": "7ef61279",
   "metadata": {},
   "outputs": [
    {
     "name": "stderr",
     "output_type": "stream",
     "text": [
      "100%|██████████| 669/669 [00:02<00:00, 291.58it/s]\n"
     ]
    }
   ],
   "source": [
    "# Calculate Shannon diversity index and Evenness\n",
    "\n",
    "cand_gene_df2 = path_df_reprod_final[['gene','gene_name','analyzed_introns']].drop_duplicates().reset_index(drop=True)\n",
    "\n",
    "SDI_list = []\n",
    "\n",
    "for i in tqdm(range(len(cand_gene_df2))):\n",
    "    gene = cand_gene_df2.loc[i]['gene']\n",
    "    gene_name = cand_gene_df2.loc[i]['gene_name']\n",
    "    analyzed_introns = cand_gene_df2.loc[i]['analyzed_introns']\n",
    "    \n",
    "    df = results_df_piv[(results_df_piv['gene']==gene) & (results_df_piv['analyzed_introns']==analyzed_introns)]\n",
    "    \n",
    "    n_introns = len(analyzed_introns.split(\"_\"))\n",
    "    \n",
    "    path_scores = np.array(df[df['measured']>0]['measured'])\n",
    "    random_scores = np.array(df[df['random']>0]['random'])\n",
    "    SS_scores = np.array(df[df['SS_scores']>0]['SS_scores'])\n",
    "    seq_scores = np.array(df[df['sequential']>0]['sequential'])\n",
    "    \n",
    "    approach_dict = {'measured_path':path_scores,'random':random_scores,'SS_score':SS_scores,'1stCome_1stServe':seq_scores}\n",
    "    \n",
    "    for approach in approach_dict.keys():\n",
    "        my_SDI = SDI(approach_dict[approach], math.factorial(n_introns))\n",
    "        SDI_list.append([gene, gene_name, analyzed_introns, approach, n_introns, my_SDI[0],my_SDI[1]])\n",
    "        \n",
    "SDI_df = pd.DataFrame(SDI_list)\n",
    "SDI_df.columns = ['gene','gene_name','analyzed_introns','approach','n_introns','Shannon_diversity','Evenness']"
   ]
  },
  {
   "cell_type": "code",
   "execution_count": 51,
   "id": "90e9804d",
   "metadata": {},
   "outputs": [],
   "source": [
    "# Write to file for plotting in R\n",
    "SDI_df.to_csv(\"/path/to/splicing_order_paths_random_K562_with_Shannon_index_with100iterations.txt\", sep=\"\\t\", header=True, index=False)"
   ]
  },
  {
   "cell_type": "code",
   "execution_count": 52,
   "id": "f388b2b4",
   "metadata": {},
   "outputs": [],
   "source": [
    "# Filter for measured or random splicing only (not SS-driven or first-come first-serve)\n",
    "SDI_df_sub = SDI_df[SDI_df['approach'].isin(['measured_path','random'])].reset_index(drop=True).rename(columns={'Shannon_diversity':'Shannon_index'})"
   ]
  },
  {
   "cell_type": "code",
   "execution_count": 53,
   "id": "63ac407a",
   "metadata": {},
   "outputs": [],
   "source": [
    "# Write as Supplemental table\n",
    "SDI_df_sub.to_csv('/path/to/TableS4_K562_splicing_order_evenness.txt', sep=\"\\t\", header=True, index=False)\n"
   ]
  },
  {
   "cell_type": "code",
   "execution_count": null,
   "id": "bd5d2c58",
   "metadata": {},
   "outputs": [],
   "source": []
  },
  {
   "cell_type": "markdown",
   "id": "d1a41e56",
   "metadata": {},
   "source": [
    "## Splicing order heatmap representations"
   ]
  },
  {
   "cell_type": "code",
   "execution_count": 3,
   "id": "88d2780d",
   "metadata": {},
   "outputs": [],
   "source": [
    "# Import data\n",
    "chr3_multi_introns_df = pd.read_table(\"/path/to/K562_chr_rep3_hg38_multi_introns_isoforms_df.txt\")\n",
    "chr4_multi_introns_df = pd.read_table(\"/path/to/K562_chr_rep4_hg38_multi_introns_isoforms_df.txt\")\n",
    "\n",
    "chr_multi_introns_df = pd.concat([chr3_multi_introns_df,chr4_multi_introns_df]).reset_index(drop=True)"
   ]
  },
  {
   "cell_type": "code",
   "execution_count": 4,
   "id": "464bc70e",
   "metadata": {},
   "outputs": [],
   "source": [
    "# For each read, retrieve splicing status for introns in the intron group\n",
    "\n",
    "def code_intron_status(df, n_introns):\n",
    "    \n",
    "    results_list = []\n",
    "    \n",
    "    for row in range(len(df)):\n",
    "        readname = df.loc[row]['read']\n",
    "        strand = df.loc[row]['strand']\n",
    "        intron_numbers = df.loc[row]['intron_numbers']\n",
    "        splice_status_introns = df.loc[row]['splice_status']\n",
    "    \n",
    "        intron_numbers_list = intron_numbers.split(\"_\")\n",
    "        splice_status_list_introns = splice_status_introns.split(\"_\")\n",
    "    \n",
    "        new_splice_status_list = [readname]\n",
    "    \n",
    "        # Make dictionaries\n",
    "        intron_dict = {}\n",
    "    \n",
    "        for i in range(len(intron_numbers_list)):\n",
    "            intron_dict[int(intron_numbers_list[i])] = splice_status_list_introns[i]\n",
    "        \n",
    "        # Loop through the introns\n",
    "        for k in range(0,n_introns):\n",
    "            if k in intron_dict.keys():\n",
    "                if intron_dict[k] == \"YES\" or \"SKP\" in intron_dict[k]:\n",
    "                    new_splice_status_list.append(-1)\n",
    "                elif intron_dict[k] == \"NO\":\n",
    "                    new_splice_status_list.append(-2)\n",
    "                else:\n",
    "                    new_splice_status_list.append(0)\n",
    "            else:\n",
    "                new_splice_status_list.append(0)\n",
    "                        \n",
    "        results_list.append(new_splice_status_list) \n",
    "    \n",
    "    results_df = pd.DataFrame(results_list)\n",
    "            \n",
    "    return(results_df)\n",
    "            \n",
    "    \n",
    "    "
   ]
  },
  {
   "cell_type": "code",
   "execution_count": 5,
   "id": "60eb858d",
   "metadata": {},
   "outputs": [],
   "source": [
    "# Define color for side bar based on number of introns that have been removed\n",
    "def get_color(sum_spliced, total_introns):\n",
    "    \n",
    "    min_sum = total_introns * -2\n",
    "    \n",
    "    if sum_spliced == min_sum:\n",
    "        color = sns.color_palette(\"Dark2\")[0]\n",
    "    elif sum_spliced == min_sum +1:\n",
    "        color = sns.color_palette(\"Dark2\")[1]\n",
    "    elif sum_spliced == min_sum +2:\n",
    "        color = sns.color_palette(\"Dark2\")[2]\n",
    "    elif sum_spliced == min_sum +3:\n",
    "        color = sns.color_palette(\"Dark2\")[3]\n",
    "    elif sum_spliced == min_sum +4:\n",
    "        color = sns.color_palette(\"Dark2\")[4]\n",
    "    elif sum_spliced == min_sum +5:\n",
    "        color = sns.color_palette(\"Dark2\")[5]\n",
    "    elif sum_spliced == min_sum +6:\n",
    "        color = sns.color_palette(\"Dark2\")[6]\n",
    "    elif sum_spliced == min_sum +7:\n",
    "        color = sns.color_palette(\"Set2\")[0]\n",
    "    elif sum_spliced == min_sum +8:\n",
    "        color = sns.color_palette(\"Set2\")[1]\n",
    "    else:\n",
    "        color = sns.color_palette(\"Dark2\")[7]\n",
    "        \n",
    "    return color\n"
   ]
  },
  {
   "cell_type": "code",
   "execution_count": 10,
   "id": "b9bca147",
   "metadata": {},
   "outputs": [],
   "source": [
    "DDX39A_df1 = chr_multi_introns_df[(chr_multi_introns_df['gene']=='NM_005804.3') & (chr_multi_introns_df['intron_numbers'].str.contains('2_3_4'))].reset_index(drop=True)\n",
    "DDX39A_mat1 = code_intron_status(DDX39A_df1, 10)\n",
    "DDX39A_mat1.index = DDX39A_mat1[0]\n",
    "DDX39A_mat1 = DDX39A_mat1[[3,4,5]]\n",
    "\n",
    "DDX39A_mat1['sum_spliced'] = DDX39A_mat1.sum(axis=1)\n",
    "DDX39A_mat1['level'] = DDX39A_mat1.apply(lambda row: get_color(row.sum_spliced, 3), axis=1)\n",
    "\n",
    "\n",
    "DDX39A_colors1 = DDX39A_mat1['level']\n",
    "\n",
    "DDX39A_mat1_bis = DDX39A_mat1.sort_values(by=['sum_spliced',3,4,5])\n",
    "DDX39A_mat1_bis = DDX39A_mat1_bis.drop(columns=['sum_spliced','level'])\n"
   ]
  },
  {
   "cell_type": "code",
   "execution_count": 11,
   "id": "9659b4a8",
   "metadata": {},
   "outputs": [
    {
     "data": {
      "text/html": [
       "<div>\n",
       "<style scoped>\n",
       "    .dataframe tbody tr th:only-of-type {\n",
       "        vertical-align: middle;\n",
       "    }\n",
       "\n",
       "    .dataframe tbody tr th {\n",
       "        vertical-align: top;\n",
       "    }\n",
       "\n",
       "    .dataframe thead th {\n",
       "        text-align: right;\n",
       "    }\n",
       "</style>\n",
       "<table border=\"1\" class=\"dataframe\">\n",
       "  <thead>\n",
       "    <tr style=\"text-align: right;\">\n",
       "      <th></th>\n",
       "      <th>3</th>\n",
       "      <th>4</th>\n",
       "      <th>5</th>\n",
       "      <th>sum_spliced</th>\n",
       "      <th>level</th>\n",
       "    </tr>\n",
       "    <tr>\n",
       "      <th>0</th>\n",
       "      <th></th>\n",
       "      <th></th>\n",
       "      <th></th>\n",
       "      <th></th>\n",
       "      <th></th>\n",
       "    </tr>\n",
       "  </thead>\n",
       "  <tbody>\n",
       "    <tr>\n",
       "      <th>b85b7fe1-c851-49bf-aa35-109cca82b347</th>\n",
       "      <td>-2</td>\n",
       "      <td>-2</td>\n",
       "      <td>-2</td>\n",
       "      <td>-6</td>\n",
       "      <td>(0.10588235294117647, 0.6196078431372549, 0.46...</td>\n",
       "    </tr>\n",
       "    <tr>\n",
       "      <th>0c832e23-eaf5-440a-b6c3-8d2ae56b5b48</th>\n",
       "      <td>-2</td>\n",
       "      <td>-2</td>\n",
       "      <td>-2</td>\n",
       "      <td>-6</td>\n",
       "      <td>(0.10588235294117647, 0.6196078431372549, 0.46...</td>\n",
       "    </tr>\n",
       "    <tr>\n",
       "      <th>99c2e8e9-7443-4a31-b266-d00eaa35edd0</th>\n",
       "      <td>-2</td>\n",
       "      <td>-2</td>\n",
       "      <td>-2</td>\n",
       "      <td>-6</td>\n",
       "      <td>(0.10588235294117647, 0.6196078431372549, 0.46...</td>\n",
       "    </tr>\n",
       "    <tr>\n",
       "      <th>373989a8-d100-4e14-83ec-6edde395322d</th>\n",
       "      <td>-2</td>\n",
       "      <td>-2</td>\n",
       "      <td>-2</td>\n",
       "      <td>-6</td>\n",
       "      <td>(0.10588235294117647, 0.6196078431372549, 0.46...</td>\n",
       "    </tr>\n",
       "    <tr>\n",
       "      <th>47fc69c1-47e1-4e52-ad2a-9df4e693f3d4</th>\n",
       "      <td>-2</td>\n",
       "      <td>-2</td>\n",
       "      <td>-2</td>\n",
       "      <td>-6</td>\n",
       "      <td>(0.10588235294117647, 0.6196078431372549, 0.46...</td>\n",
       "    </tr>\n",
       "    <tr>\n",
       "      <th>...</th>\n",
       "      <td>...</td>\n",
       "      <td>...</td>\n",
       "      <td>...</td>\n",
       "      <td>...</td>\n",
       "      <td>...</td>\n",
       "    </tr>\n",
       "    <tr>\n",
       "      <th>1352aeb3-6ef7-48f2-b107-62e5d2e2fb58</th>\n",
       "      <td>-1</td>\n",
       "      <td>-1</td>\n",
       "      <td>-1</td>\n",
       "      <td>-3</td>\n",
       "      <td>(0.9058823529411765, 0.1607843137254902, 0.541...</td>\n",
       "    </tr>\n",
       "    <tr>\n",
       "      <th>ba230b5a-ec9b-490a-8001-5528a14860d6</th>\n",
       "      <td>-1</td>\n",
       "      <td>-1</td>\n",
       "      <td>-1</td>\n",
       "      <td>-3</td>\n",
       "      <td>(0.9058823529411765, 0.1607843137254902, 0.541...</td>\n",
       "    </tr>\n",
       "    <tr>\n",
       "      <th>1e550d1f-1405-48b9-9be6-797db6c143d8</th>\n",
       "      <td>-1</td>\n",
       "      <td>-1</td>\n",
       "      <td>-1</td>\n",
       "      <td>-3</td>\n",
       "      <td>(0.9058823529411765, 0.1607843137254902, 0.541...</td>\n",
       "    </tr>\n",
       "    <tr>\n",
       "      <th>00463e4e-9f6f-4898-a648-bda378844e2e</th>\n",
       "      <td>-1</td>\n",
       "      <td>-1</td>\n",
       "      <td>-1</td>\n",
       "      <td>-3</td>\n",
       "      <td>(0.9058823529411765, 0.1607843137254902, 0.541...</td>\n",
       "    </tr>\n",
       "    <tr>\n",
       "      <th>e79f60f3-9660-4b56-a2a4-a2ed18788180</th>\n",
       "      <td>-1</td>\n",
       "      <td>-1</td>\n",
       "      <td>-1</td>\n",
       "      <td>-3</td>\n",
       "      <td>(0.9058823529411765, 0.1607843137254902, 0.541...</td>\n",
       "    </tr>\n",
       "  </tbody>\n",
       "</table>\n",
       "<p>742 rows × 5 columns</p>\n",
       "</div>"
      ],
      "text/plain": [
       "                                      3  4  5  sum_spliced  \\\n",
       "0                                                            \n",
       "b85b7fe1-c851-49bf-aa35-109cca82b347 -2 -2 -2           -6   \n",
       "0c832e23-eaf5-440a-b6c3-8d2ae56b5b48 -2 -2 -2           -6   \n",
       "99c2e8e9-7443-4a31-b266-d00eaa35edd0 -2 -2 -2           -6   \n",
       "373989a8-d100-4e14-83ec-6edde395322d -2 -2 -2           -6   \n",
       "47fc69c1-47e1-4e52-ad2a-9df4e693f3d4 -2 -2 -2           -6   \n",
       "...                                  .. .. ..          ...   \n",
       "1352aeb3-6ef7-48f2-b107-62e5d2e2fb58 -1 -1 -1           -3   \n",
       "ba230b5a-ec9b-490a-8001-5528a14860d6 -1 -1 -1           -3   \n",
       "1e550d1f-1405-48b9-9be6-797db6c143d8 -1 -1 -1           -3   \n",
       "00463e4e-9f6f-4898-a648-bda378844e2e -1 -1 -1           -3   \n",
       "e79f60f3-9660-4b56-a2a4-a2ed18788180 -1 -1 -1           -3   \n",
       "\n",
       "                                                                                  level  \n",
       "0                                                                                        \n",
       "b85b7fe1-c851-49bf-aa35-109cca82b347  (0.10588235294117647, 0.6196078431372549, 0.46...  \n",
       "0c832e23-eaf5-440a-b6c3-8d2ae56b5b48  (0.10588235294117647, 0.6196078431372549, 0.46...  \n",
       "99c2e8e9-7443-4a31-b266-d00eaa35edd0  (0.10588235294117647, 0.6196078431372549, 0.46...  \n",
       "373989a8-d100-4e14-83ec-6edde395322d  (0.10588235294117647, 0.6196078431372549, 0.46...  \n",
       "47fc69c1-47e1-4e52-ad2a-9df4e693f3d4  (0.10588235294117647, 0.6196078431372549, 0.46...  \n",
       "...                                                                                 ...  \n",
       "1352aeb3-6ef7-48f2-b107-62e5d2e2fb58  (0.9058823529411765, 0.1607843137254902, 0.541...  \n",
       "ba230b5a-ec9b-490a-8001-5528a14860d6  (0.9058823529411765, 0.1607843137254902, 0.541...  \n",
       "1e550d1f-1405-48b9-9be6-797db6c143d8  (0.9058823529411765, 0.1607843137254902, 0.541...  \n",
       "00463e4e-9f6f-4898-a648-bda378844e2e  (0.9058823529411765, 0.1607843137254902, 0.541...  \n",
       "e79f60f3-9660-4b56-a2a4-a2ed18788180  (0.9058823529411765, 0.1607843137254902, 0.541...  \n",
       "\n",
       "[742 rows x 5 columns]"
      ]
     },
     "execution_count": 11,
     "metadata": {},
     "output_type": "execute_result"
    }
   ],
   "source": [
    "DDX39A_mat1.sort_values(by=['sum_spliced',3,4,5])"
   ]
  },
  {
   "cell_type": "code",
   "execution_count": 12,
   "id": "a74e1557",
   "metadata": {},
   "outputs": [
    {
     "data": {
      "text/plain": [
       "174"
      ]
     },
     "execution_count": 12,
     "metadata": {},
     "output_type": "execute_result"
    }
   ],
   "source": [
    "len(DDX39A_mat1[DDX39A_mat1['sum_spliced']==-5])"
   ]
  },
  {
   "cell_type": "code",
   "execution_count": 13,
   "id": "fa6c1677",
   "metadata": {},
   "outputs": [
    {
     "data": {
      "text/plain": [
       "347"
      ]
     },
     "execution_count": 13,
     "metadata": {},
     "output_type": "execute_result"
    }
   ],
   "source": [
    "len(DDX39A_mat1[DDX39A_mat1['sum_spliced']==-4])"
   ]
  },
  {
   "cell_type": "code",
   "execution_count": 17,
   "id": "5f78401c",
   "metadata": {},
   "outputs": [
    {
     "data": {
      "image/png": "[encoded data removed]",
      "text/plain": [
       "<Figure size 360x360 with 5 Axes>"
      ]
     },
     "metadata": {
      "needs_background": "light"
     },
     "output_type": "display_data"
    }
   ],
   "source": [
    "gene_name = \"DDX39A\"\n",
    "replicate = \"rep1\"\n",
    "\n",
    "sns.clustermap(DDX39A_mat1_bis, col_cluster=False, row_cluster=False, \n",
    "               cmap=\"vlag\", yticklabels=False, xticklabels=False, figsize=(5,5),\n",
    "              row_colors=DDX39A_colors1, vmin=-2, vmax=2)\n",
    "\n",
    "plt.title(gene_name + ' ' + replicate, fontsize=14)\n",
    "\n",
    "plt.savefig(\"/path/to/plots/Fig2A_K562_chromatin_rep1_DDX39A_read_heatmap_v2.pdf\", format='pdf', dpi=300, bbox_inches='tight')\n",
    "\n",
    "plt.show()"
   ]
  },
  {
   "cell_type": "code",
   "execution_count": 18,
   "id": "d8b8cbf0",
   "metadata": {},
   "outputs": [],
   "source": [
    "# What if I plot only the introns of interest that go into the analysis?\n",
    "ACADVL_df1 = chr_multi_introns_df[(chr_multi_introns_df['gene']=='NM_000018.3') &\n",
    "                                  (chr_multi_introns_df['intron_numbers'].str.contains(\"7_8_9_10\"))].reset_index(drop=True)\n",
    "\n",
    "ACADVL_mat1 = code_intron_status(ACADVL_df1, 20)\n",
    "ACADVL_mat1.index = ACADVL_mat1[0]\n",
    "ACADVL_mat1 = ACADVL_mat1[[8,9,10,11]]\n",
    "\n",
    "ACADVL_mat1['sum_spliced'] = ACADVL_mat1.sum(axis=1)\n",
    "ACADVL_mat1['level'] = ACADVL_mat1.apply(lambda row: get_color(row.sum_spliced, 4), axis=1)\n",
    "\n",
    "\n",
    "ACADVL_colors1 = ACADVL_mat1['level']\n",
    "\n",
    "ACADVL_mat1_bis = ACADVL_mat1.sort_values(by=['sum_spliced',8,9,10,11])\n",
    "ACADVL_mat1_bis = ACADVL_mat1_bis.drop(columns=['sum_spliced','level'])\n"
   ]
  },
  {
   "cell_type": "code",
   "execution_count": 19,
   "id": "700d4804",
   "metadata": {},
   "outputs": [
    {
     "data": {
      "text/plain": [
       "59"
      ]
     },
     "execution_count": 19,
     "metadata": {},
     "output_type": "execute_result"
    }
   ],
   "source": [
    "len(ACADVL_mat1[ACADVL_mat1['sum_spliced']==-7])"
   ]
  },
  {
   "cell_type": "code",
   "execution_count": 20,
   "id": "b8f671fb",
   "metadata": {},
   "outputs": [
    {
     "data": {
      "text/plain": [
       "43"
      ]
     },
     "execution_count": 20,
     "metadata": {},
     "output_type": "execute_result"
    }
   ],
   "source": [
    "len(ACADVL_mat1[ACADVL_mat1['sum_spliced']==-6])"
   ]
  },
  {
   "cell_type": "code",
   "execution_count": 21,
   "id": "ae89b55f",
   "metadata": {},
   "outputs": [
    {
     "data": {
      "text/plain": [
       "47"
      ]
     },
     "execution_count": 21,
     "metadata": {},
     "output_type": "execute_result"
    }
   ],
   "source": [
    "len(ACADVL_mat1[ACADVL_mat1['sum_spliced']==-5])"
   ]
  },
  {
   "cell_type": "code",
   "execution_count": 22,
   "id": "d119cbd7",
   "metadata": {},
   "outputs": [
    {
     "data": {
      "image/png": "[encoded data removed]",
      "text/plain": [
       "<Figure size 360x360 with 5 Axes>"
      ]
     },
     "metadata": {
      "needs_background": "light"
     },
     "output_type": "display_data"
    }
   ],
   "source": [
    "gene_name = \"ACADVL\"\n",
    "replicate = \"rep1\"\n",
    "\n",
    "sns.clustermap(ACADVL_mat1_bis, col_cluster=False, row_cluster=False, \n",
    "               cmap=\"vlag\", yticklabels=False, xticklabels=False, figsize=(5,5),\n",
    "              row_colors=ACADVL_colors1, vmin=-2, vmax=2)\n",
    "\n",
    "plt.title(gene_name + ' ' + replicate, fontsize=14)\n",
    "\n",
    "plt.savefig(\"/path/to/plots/Fig2D_K562_chromatin_rep1_ACADVL_read_heatmap_v2.pdf\", format='pdf', dpi=300, bbox_inches='tight')\n",
    "\n",
    "plt.show()"
   ]
  },
  {
   "cell_type": "code",
   "execution_count": 23,
   "id": "5c157e1b",
   "metadata": {},
   "outputs": [],
   "source": [
    "# Test with selected genes\n",
    "PAXX_df1 = chr_multi_introns_df[(chr_multi_introns_df['gene']=='NM_183241.1') &\n",
    "                                  (chr_multi_introns_df['intron_numbers'].str.contains(\"0_1_2_3\"))].reset_index(drop=True)\n",
    "PAXX_mat1 = code_intron_status(PAXX_df1, 6)\n",
    "PAXX_mat1.index = PAXX_mat1[0]\n",
    "PAXX_mat1 = PAXX_mat1[[1,2,3,4]]\n",
    "\n",
    "PAXX_mat1['sum_spliced'] = PAXX_mat1.sum(axis=1)\n",
    "PAXX_mat1['level'] = PAXX_mat1.apply(lambda row: get_color(row.sum_spliced, 4), axis=1)\n",
    "\n",
    "\n",
    "PAXX_colors1 = PAXX_mat1['level']\n",
    "\n",
    "PAXX_mat1_bis = PAXX_mat1.sort_values(by=['sum_spliced',1,2,3,4])\n",
    "PAXX_mat1_bis = PAXX_mat1_bis.drop(columns=['sum_spliced','level'])\n"
   ]
  },
  {
   "cell_type": "code",
   "execution_count": 24,
   "id": "ef2f945f",
   "metadata": {},
   "outputs": [
    {
     "data": {
      "text/plain": [
       "315"
      ]
     },
     "execution_count": 24,
     "metadata": {},
     "output_type": "execute_result"
    }
   ],
   "source": [
    "len(PAXX_mat1[PAXX_mat1['sum_spliced']==-7])"
   ]
  },
  {
   "cell_type": "code",
   "execution_count": 25,
   "id": "6c014323",
   "metadata": {},
   "outputs": [
    {
     "data": {
      "text/plain": [
       "384"
      ]
     },
     "execution_count": 25,
     "metadata": {},
     "output_type": "execute_result"
    }
   ],
   "source": [
    "len(PAXX_mat1[PAXX_mat1['sum_spliced']==-6])"
   ]
  },
  {
   "cell_type": "code",
   "execution_count": 26,
   "id": "ac72bd42",
   "metadata": {},
   "outputs": [
    {
     "data": {
      "text/plain": [
       "63"
      ]
     },
     "execution_count": 26,
     "metadata": {},
     "output_type": "execute_result"
    }
   ],
   "source": [
    "len(PAXX_mat1[PAXX_mat1['sum_spliced']==-5])"
   ]
  },
  {
   "cell_type": "code",
   "execution_count": 27,
   "id": "24575717",
   "metadata": {},
   "outputs": [
    {
     "data": {
      "image/png": "[encoded data removed]",
      "text/plain": [
       "<Figure size 360x360 with 5 Axes>"
      ]
     },
     "metadata": {
      "needs_background": "light"
     },
     "output_type": "display_data"
    }
   ],
   "source": [
    "gene_name = \"PAXX\"\n",
    "replicate = \"rep1\"\n",
    "\n",
    "sns.clustermap(PAXX_mat1_bis, col_cluster=False, row_cluster=False, cmap=\"vlag\", yticklabels=False, xticklabels=False, figsize=(5,5),\n",
    "              row_colors=PAXX_colors1, vmin=-2, vmax=2)\n",
    "\n",
    "plt.title(gene_name + ' ' + replicate, fontsize=14)\n",
    "\n",
    "plt.savefig(\"/path/to/plots/Fig2D_K562_chromatin_rep1_PAXX_read_heatmap_v2.pdf\", format='pdf', dpi=300, bbox_inches='tight')\n",
    "\n",
    "\n",
    "plt.show()"
   ]
  },
  {
   "cell_type": "code",
   "execution_count": 28,
   "id": "ad09c0db",
   "metadata": {},
   "outputs": [],
   "source": [
    "# Test with selected genes\n",
    "FASTK_df1 = chr_multi_introns_df[(chr_multi_introns_df['gene']=='NM_001258461.1') &\n",
    "                                  (chr_multi_introns_df['intron_numbers'].str.contains(\"2_3_4_5\"))].reset_index(drop=True)\n",
    "FASTK_mat1 = code_intron_status(FASTK_df1, 8)\n",
    "FASTK_mat1.index = FASTK_mat1[0]\n",
    "FASTK_mat1 = FASTK_mat1[[3,4,5,6]]\n",
    "\n",
    "FASTK_mat1['sum_spliced'] = FASTK_mat1.sum(axis=1)\n",
    "FASTK_mat1['level'] = FASTK_mat1.apply(lambda row: get_color(row.sum_spliced, 4), axis=1)\n",
    "\n",
    "\n",
    "FASTK_colors1 = FASTK_mat1['level']\n",
    "\n",
    "FASTK_mat1_bis = FASTK_mat1.sort_values(by=['sum_spliced',3,4,5,6])\n",
    "FASTK_mat1_bis = FASTK_mat1_bis.drop(columns=['sum_spliced','level'])\n"
   ]
  },
  {
   "cell_type": "code",
   "execution_count": 29,
   "id": "e1a1daae",
   "metadata": {},
   "outputs": [
    {
     "data": {
      "text/plain": [
       "46"
      ]
     },
     "execution_count": 29,
     "metadata": {},
     "output_type": "execute_result"
    }
   ],
   "source": [
    "len(FASTK_mat1[FASTK_mat1['sum_spliced']==-7])"
   ]
  },
  {
   "cell_type": "code",
   "execution_count": 30,
   "id": "acb6a8f8",
   "metadata": {},
   "outputs": [
    {
     "data": {
      "text/plain": [
       "69"
      ]
     },
     "execution_count": 30,
     "metadata": {},
     "output_type": "execute_result"
    }
   ],
   "source": [
    "len(FASTK_mat1[FASTK_mat1['sum_spliced']==-6])"
   ]
  },
  {
   "cell_type": "code",
   "execution_count": 31,
   "id": "e114f301",
   "metadata": {},
   "outputs": [
    {
     "data": {
      "text/plain": [
       "110"
      ]
     },
     "execution_count": 31,
     "metadata": {},
     "output_type": "execute_result"
    }
   ],
   "source": [
    "len(FASTK_mat1[FASTK_mat1['sum_spliced']==-5])"
   ]
  },
  {
   "cell_type": "code",
   "execution_count": 32,
   "id": "94d74fa1",
   "metadata": {},
   "outputs": [
    {
     "data": {
      "image/png": "[encoded data removed]",
      "text/plain": [
       "<Figure size 360x360 with 5 Axes>"
      ]
     },
     "metadata": {
      "needs_background": "light"
     },
     "output_type": "display_data"
    }
   ],
   "source": [
    "gene_name = \"FASTK\"\n",
    "replicate = \"rep1\"\n",
    "\n",
    "sns.clustermap(FASTK_mat1_bis, col_cluster=False, row_cluster=False, cmap=\"vlag\", yticklabels=False, xticklabels=False, figsize=(5,5),\n",
    "              row_colors=FASTK_colors1, vmin=-2, vmax=2)\n",
    "\n",
    "plt.title(gene_name + ' ' + replicate, fontsize=14)\n",
    "\n",
    "plt.savefig(\"/path/to/plots/Fig2D_K562_chromatin_rep1_FASTK_read_heatmap_v2.pdf\", format='pdf', dpi=300, bbox_inches='tight')\n",
    "\n",
    "\n",
    "plt.show()"
   ]
  },
  {
   "cell_type": "code",
   "execution_count": 33,
   "id": "fa6a4a0d",
   "metadata": {},
   "outputs": [],
   "source": [
    "# Test with selected genes\n",
    "MAT2A_df1 = chr_multi_introns_df[(chr_multi_introns_df['gene']=='NM_005911.5') &\n",
    "                                  (chr_multi_introns_df['intron_numbers'].str.contains(\"4_5_6_7\"))].reset_index(drop=True)\n",
    "MAT2A_mat1 = code_intron_status(MAT2A_df1, 8)\n",
    "MAT2A_mat1.index = MAT2A_mat1[0]\n",
    "MAT2A_mat1 = MAT2A_mat1[[5,6,7,8]]\n",
    "\n",
    "MAT2A_mat1['sum_spliced'] = MAT2A_mat1.sum(axis=1)\n",
    "MAT2A_mat1['level'] = MAT2A_mat1.apply(lambda row: get_color(row.sum_spliced, 4), axis=1)\n",
    "\n",
    "\n",
    "MAT2A_colors1 = MAT2A_mat1['level']\n",
    "\n",
    "MAT2A_mat1_bis = MAT2A_mat1.sort_values(by=['sum_spliced',5,6,7,8])\n",
    "MAT2A_mat1_bis = MAT2A_mat1_bis.drop(columns=['sum_spliced','level'])\n",
    "\n"
   ]
  },
  {
   "cell_type": "code",
   "execution_count": 34,
   "id": "43c8c927",
   "metadata": {},
   "outputs": [
    {
     "data": {
      "text/plain": [
       "92"
      ]
     },
     "execution_count": 34,
     "metadata": {},
     "output_type": "execute_result"
    }
   ],
   "source": [
    "len(MAT2A_mat1[MAT2A_mat1['sum_spliced']==-7])"
   ]
  },
  {
   "cell_type": "code",
   "execution_count": 35,
   "id": "252795bf",
   "metadata": {},
   "outputs": [
    {
     "data": {
      "text/plain": [
       "129"
      ]
     },
     "execution_count": 35,
     "metadata": {},
     "output_type": "execute_result"
    }
   ],
   "source": [
    "len(MAT2A_mat1[MAT2A_mat1['sum_spliced']==-6])"
   ]
  },
  {
   "cell_type": "code",
   "execution_count": 36,
   "id": "6e71f84d",
   "metadata": {},
   "outputs": [
    {
     "data": {
      "text/plain": [
       "1261"
      ]
     },
     "execution_count": 36,
     "metadata": {},
     "output_type": "execute_result"
    }
   ],
   "source": [
    "len(MAT2A_mat1[MAT2A_mat1['sum_spliced']==-5])"
   ]
  },
  {
   "cell_type": "code",
   "execution_count": 24,
   "id": "83ed9452",
   "metadata": {},
   "outputs": [
    {
     "data": {
      "text/html": [
       "<div>\n",
       "<style scoped>\n",
       "    .dataframe tbody tr th:only-of-type {\n",
       "        vertical-align: middle;\n",
       "    }\n",
       "\n",
       "    .dataframe tbody tr th {\n",
       "        vertical-align: top;\n",
       "    }\n",
       "\n",
       "    .dataframe thead th {\n",
       "        text-align: right;\n",
       "    }\n",
       "</style>\n",
       "<table border=\"1\" class=\"dataframe\">\n",
       "  <thead>\n",
       "    <tr style=\"text-align: right;\">\n",
       "      <th></th>\n",
       "      <th>5</th>\n",
       "      <th>6</th>\n",
       "      <th>7</th>\n",
       "      <th>8</th>\n",
       "    </tr>\n",
       "    <tr>\n",
       "      <th>0</th>\n",
       "      <th></th>\n",
       "      <th></th>\n",
       "      <th></th>\n",
       "      <th></th>\n",
       "    </tr>\n",
       "  </thead>\n",
       "  <tbody>\n",
       "    <tr>\n",
       "      <th>2b392413-c66e-42c9-bc67-00ceb4a0cb06</th>\n",
       "      <td>-2</td>\n",
       "      <td>-2</td>\n",
       "      <td>-2</td>\n",
       "      <td>-2</td>\n",
       "    </tr>\n",
       "    <tr>\n",
       "      <th>3495898c-477f-4f48-b984-a9e1f55baffe</th>\n",
       "      <td>-2</td>\n",
       "      <td>-2</td>\n",
       "      <td>-2</td>\n",
       "      <td>-2</td>\n",
       "    </tr>\n",
       "    <tr>\n",
       "      <th>5b2072f8-02cc-4e2a-9026-09a17e461c57</th>\n",
       "      <td>-2</td>\n",
       "      <td>-2</td>\n",
       "      <td>-2</td>\n",
       "      <td>-2</td>\n",
       "    </tr>\n",
       "    <tr>\n",
       "      <th>75509c4d-4848-4412-83dc-e08df0c23a2a</th>\n",
       "      <td>-2</td>\n",
       "      <td>-2</td>\n",
       "      <td>-2</td>\n",
       "      <td>-2</td>\n",
       "    </tr>\n",
       "    <tr>\n",
       "      <th>a6026a12-f58e-4acd-af06-1843dd5155f7</th>\n",
       "      <td>-2</td>\n",
       "      <td>-2</td>\n",
       "      <td>-2</td>\n",
       "      <td>-2</td>\n",
       "    </tr>\n",
       "    <tr>\n",
       "      <th>...</th>\n",
       "      <td>...</td>\n",
       "      <td>...</td>\n",
       "      <td>...</td>\n",
       "      <td>...</td>\n",
       "    </tr>\n",
       "    <tr>\n",
       "      <th>4631e8c5-ebea-46ef-9f3a-82f9f728d004</th>\n",
       "      <td>-1</td>\n",
       "      <td>-1</td>\n",
       "      <td>-1</td>\n",
       "      <td>-1</td>\n",
       "    </tr>\n",
       "    <tr>\n",
       "      <th>4de47f19-6314-43f3-ac08-39ca40a7789c</th>\n",
       "      <td>-1</td>\n",
       "      <td>-1</td>\n",
       "      <td>-1</td>\n",
       "      <td>-1</td>\n",
       "    </tr>\n",
       "    <tr>\n",
       "      <th>021db3c3-0210-4325-a686-be07f4c11319</th>\n",
       "      <td>-1</td>\n",
       "      <td>-1</td>\n",
       "      <td>-1</td>\n",
       "      <td>-1</td>\n",
       "    </tr>\n",
       "    <tr>\n",
       "      <th>61db6bd9-6a8e-45d8-a729-b6c4542ae05a</th>\n",
       "      <td>-1</td>\n",
       "      <td>-1</td>\n",
       "      <td>-1</td>\n",
       "      <td>-1</td>\n",
       "    </tr>\n",
       "    <tr>\n",
       "      <th>84092ba3-b0e2-4837-acfc-0ac8bf37c2fa</th>\n",
       "      <td>-1</td>\n",
       "      <td>-1</td>\n",
       "      <td>-1</td>\n",
       "      <td>-1</td>\n",
       "    </tr>\n",
       "  </tbody>\n",
       "</table>\n",
       "<p>1128 rows × 4 columns</p>\n",
       "</div>"
      ],
      "text/plain": [
       "                                      5  6  7  8\n",
       "0                                               \n",
       "2b392413-c66e-42c9-bc67-00ceb4a0cb06 -2 -2 -2 -2\n",
       "3495898c-477f-4f48-b984-a9e1f55baffe -2 -2 -2 -2\n",
       "5b2072f8-02cc-4e2a-9026-09a17e461c57 -2 -2 -2 -2\n",
       "75509c4d-4848-4412-83dc-e08df0c23a2a -2 -2 -2 -2\n",
       "a6026a12-f58e-4acd-af06-1843dd5155f7 -2 -2 -2 -2\n",
       "...                                  .. .. .. ..\n",
       "4631e8c5-ebea-46ef-9f3a-82f9f728d004 -1 -1 -1 -1\n",
       "4de47f19-6314-43f3-ac08-39ca40a7789c -1 -1 -1 -1\n",
       "021db3c3-0210-4325-a686-be07f4c11319 -1 -1 -1 -1\n",
       "61db6bd9-6a8e-45d8-a729-b6c4542ae05a -1 -1 -1 -1\n",
       "84092ba3-b0e2-4837-acfc-0ac8bf37c2fa -1 -1 -1 -1\n",
       "\n",
       "[1128 rows x 4 columns]"
      ]
     },
     "execution_count": 24,
     "metadata": {},
     "output_type": "execute_result"
    }
   ],
   "source": [
    "MAT2A_mat1_bis"
   ]
  },
  {
   "cell_type": "code",
   "execution_count": 37,
   "id": "3f4357db",
   "metadata": {},
   "outputs": [
    {
     "data": {
      "image/png": "[encoded data removed]",
      "text/plain": [
       "<Figure size 360x360 with 5 Axes>"
      ]
     },
     "metadata": {
      "needs_background": "light"
     },
     "output_type": "display_data"
    }
   ],
   "source": [
    "gene_name = \"MAT2A\"\n",
    "replicate = \"rep1\"\n",
    "\n",
    "sns.clustermap(MAT2A_mat1_bis, col_cluster=False, row_cluster=False, cmap=\"vlag\", yticklabels=False, xticklabels=False, figsize=(5,5),\n",
    "              row_colors=MAT2A_colors1, vmin=-2, vmax=2)\n",
    "\n",
    "plt.title(gene_name + ' ' + replicate, fontsize=14)\n",
    "\n",
    "plt.savefig(\"/path/to/plots/Fig2D_chromatin_rep1_MAT2A_read_heatmap_v2.pdf\", format='pdf', dpi=300, bbox_inches='tight')\n",
    "\n",
    "\n",
    "plt.show()"
   ]
  },
  {
   "cell_type": "code",
   "execution_count": null,
   "id": "e5153892",
   "metadata": {},
   "outputs": [],
   "source": []
  },
  {
   "cell_type": "markdown",
   "id": "c0bad69c",
   "metadata": {},
   "source": [
    "## Simulations for setting coverage threshold"
   ]
  },
  {
   "cell_type": "code",
   "execution_count": 1,
   "id": "597ec82b",
   "metadata": {},
   "outputs": [],
   "source": [
    "# Function to compute splicing order\n",
    "def get_score_per_path_non_consec(read_list, introns_of_interest_list):\n",
    "    \n",
    "    # Make a dictionary with the patterns and the counts and another with the number of introns spliced and the counts\n",
    "    pattern_dict = {}\n",
    "    results_list = []\n",
    "    spliced_counts_dict = {}\n",
    "    \n",
    "    # Initiate pattern_dict\n",
    "    pattern_dict = {}\n",
    "    for n in range(len(introns_of_interest_list)+1):\n",
    "        pattern_dict[n] = {}\n",
    "    \n",
    "    # Iterate to get counts for isoforms\n",
    "    for read in read_list:\n",
    "            splice_status_list = read.split(\"_\")\n",
    "            splice_status = \"_\".join(splice_status_list)\n",
    "            spliced_count = Counter(splice_status_list)['YES']\n",
    "            unspliced_count = Counter(splice_status_list)['NO']\n",
    "            \n",
    "            level = spliced_count\n",
    "            if splice_status not in pattern_dict[level].keys():\n",
    "                pattern_dict[level][splice_status] = 1\n",
    "            elif splice_status in pattern_dict[level].keys():\n",
    "                pattern_dict[level][splice_status] += 1\n",
    "            if level not in spliced_counts_dict.keys():\n",
    "                spliced_counts_dict[level] = 1\n",
    "            else:\n",
    "                spliced_counts_dict[level] += 1          \n",
    "    \n",
    "    # Filter for a certain number of reads at each intermediate level\n",
    "    level_threshold = 0\n",
    "    good_levels = []\n",
    "    for level in sorted(list(spliced_counts_dict.keys()))[0:-1]: # exclude the final level (all spliced)\n",
    "        if spliced_counts_dict[level] >= level_threshold:\n",
    "            good_levels.append(level)\n",
    "            \n",
    "    if len(good_levels) == len(introns_of_interest_list): # there is at least one read at each level\n",
    "        # Initiate path_dict\n",
    "        path_dict = {}\n",
    "        for n in range(len(introns_of_interest_list)):\n",
    "            path_dict[n] = {}\n",
    "        \n",
    "        # For each combination of isoforms between levels (e.g. number of splicing events),\n",
    "        # retrieve the frequencies and calculate scores\n",
    "        # Below, the following scores are calculated:\n",
    "        # freq: number of reads for that isoform / total number of reads for that level\n",
    "        # sub_path_score : freq for that isoform * freq for the isoform from which it is derived\n",
    "        # path_score: freq for that isoform * path_score from the previous isoform (so multiplicative frequencies)\n",
    "        # full_path_score: the path_score for the last level of that path\n",
    "        for levels in itertools.product(pattern_dict.keys(), pattern_dict.keys()):\n",
    "            level1 = levels[0]\n",
    "            level2 = levels[1]\n",
    "            if level1 != level2: # we don't want to compare isoforms from the same level\n",
    "            \n",
    "                # Iterate through each pair of isoforms that are from different levels\n",
    "                for pair in itertools.product(pattern_dict[level1].keys(), pattern_dict[level2].keys()):\n",
    "                    pattern1 = pair[0].split(\"_\")\n",
    "                    pattern2 = pair[1].split(\"_\")\n",
    "        \n",
    "                    # Get the splicing level of the isoform\n",
    "                    unspliced_introns_pattern1 = len([i for i, x in enumerate(pattern1) if x == \"NO\"])\n",
    "                    unspliced_introns_pattern2 = len([i for i, x in enumerate(pattern2) if x == \"NO\"])\n",
    "                    spliced_introns_pattern2 = Counter(pattern2)['YES']\n",
    "                \n",
    "                    # Define the level that will be used below\n",
    "                    level = level1\n",
    "        \n",
    "                    # retrieve the positions of the difference(s) between the two patterns\n",
    "                    diff_index_list = [i for i, x in enumerate(pattern2) if pattern1[i]!=x]\n",
    "        \n",
    "                    # If pattern2 has one more spliced intron than pattern1:\n",
    "                    if len(diff_index_list) == 1:\n",
    "                        diff_index = diff_index_list[0]\n",
    "                        if pattern1[diff_index] == \"NO\" and pattern2[diff_index] == \"YES\":\n",
    "                            count_pattern1 = pattern_dict[level1][pair[0]]\n",
    "                            count_pattern2 = pattern_dict[level2][pair[1]]\n",
    "                \n",
    "                            if level == 0: # this means we are starting from the unspliced isoform\n",
    "                                # define a new splicing path\n",
    "                                new_intron_spliced = str(introns_of_interest_list[diff_index])\n",
    "                                path_name = new_intron_spliced + \"->\"\n",
    "                                freq = count_pattern2 / spliced_counts_dict[level+1]\n",
    "                                path_score = freq\n",
    "                                sub_path_score = freq\n",
    "                                path_dict[level][path_name] = [pattern1, pattern2, pair[0], pair[1], count_pattern1, count_pattern2, \"spliced\", level, new_intron_spliced, spliced_counts_dict[level+1], freq, sub_path_score, path_score]\n",
    "                    \n",
    "                            elif level > 0 and level < len(introns_of_interest_list)-1: # this means we are at an intermediate isoform\n",
    "                                for k in path_dict[level-1].keys():\n",
    "                                    if path_dict[level-1][k][1] == pattern1:\n",
    "                                        new_intron_spliced = str(introns_of_interest_list[diff_index])\n",
    "                                        if unspliced_introns_pattern2 == 0:\n",
    "                                            path_name = str(k) + new_intron_spliced\n",
    "                                        elif unspliced_introns_pattern2 > 0:\n",
    "                                            path_name = str(k) + new_intron_spliced + \"->\"\n",
    "                                        freq = count_pattern2 / spliced_counts_dict[level+1]\n",
    "                                        path_score = path_dict[level-1][k][-1] * freq\n",
    "                                        sub_path_score = path_dict[level-1][k][-3] * freq # only the frequency from the previous level and this level\n",
    "                                        path_dict[level][path_name] = [pattern1, pattern2, pair[0], pair[1], count_pattern1, count_pattern2, \"spliced\", level, new_intron_spliced, spliced_counts_dict[level+1], freq, sub_path_score, path_score]\n",
    "                            \n",
    "                            elif level == len(introns_of_interest_list)-1: # this means we are at the fully spliced isoform        \n",
    "                                for k in path_dict[level-1].keys():\n",
    "                                    if path_dict[level-1][k][1] == pattern1:\n",
    "                                        new_intron_spliced = str(introns_of_interest_list[diff_index])\n",
    "                                        path_name = str(k) + new_intron_spliced\n",
    "                                        freq = 1\n",
    "                                        path_score = path_dict[level-1][k][-1] * freq\n",
    "                                        sub_path_score = path_dict[level-1][k][-3] * freq\n",
    "                                        path_dict[level][path_name] = [pattern1, pattern2, pair[0], pair[1], count_pattern1, count_pattern2, \"spliced\", level, new_intron_spliced, spliced_counts_dict[level+1], freq, sub_path_score, path_score]\n",
    "    \n",
    "        \n",
    "        # Now loop through the dictionary to match each pair with the possible final paths\n",
    "        # The final level contains only final paths, so first retrieve those\n",
    "        try:\n",
    "            final_level = list(path_dict.keys())[-1]\n",
    "            final_level_df = pd.DataFrame.from_dict(path_dict[final_level], orient='index').reset_index()    \n",
    "            final_level_df.columns = ['path_name','pattern1_list','pattern2_list','pattern1','pattern2','count_pattern1','count_pattern2','event_type','level','new_intron_spliced','total_counts_level','freq','sub_path_score','path_score']\n",
    "            final_level_df = final_level_df.drop(['pattern1_list','pattern2_list'],axis=1)\n",
    "            final_level_df['full_path'] = final_level_df['path_name']\n",
    "            final_df = final_level_df.copy()\n",
    "    \n",
    "            # Iterate through each of the levels to match the partial paths with all the possible final paths\n",
    "            for lev in list(reversed(list(path_dict.keys())))[:-1]:\n",
    "                # For the two final levels, merge the second last with the last to retrieve the final path and add the final path score\n",
    "                if lev == final_level:\n",
    "                    df1 = pd.DataFrame.from_dict(path_dict[lev], orient='index').reset_index()\n",
    "                    df2 = pd.DataFrame.from_dict(path_dict[lev-1], orient='index').reset_index()\n",
    "        \n",
    "                    df1.columns = ['path_name','pattern1_list','pattern2_list','pattern1','pattern2','count_pattern1','count_pattern2','event_type','level','new_intron_spliced','total_counts_level','freq','sub_path_score','path_score']\n",
    "                    df2.columns = ['path_name','pattern1_list','pattern2_list','pattern1','pattern2','count_pattern1','count_pattern2','event_type','level','new_intron_spliced','total_counts_level','freq','sub_path_score','path_score']\n",
    "        \n",
    "                    fields = ['pattern1','path_name']\n",
    "        \n",
    "                    new_df = df2.merge(df1[fields], left_on='pattern2', right_on='pattern1', how='left')\n",
    "                    new_df = new_df.rename(columns={'path_name_x':'path_name','path_name_y':'full_path','pattern1_x':'pattern1'}).drop(['pattern1_y','pattern1_list','pattern2_list'], axis=1)\n",
    "            \n",
    "                    new_df = new_df.fillna(0)\n",
    "            \n",
    "                    # If full_path is null, that means that it wasn't present in the level above and therefore the full path\n",
    "                    # is likely to be the current path, so replace it that way\n",
    "                    new_df_sub1 = new_df[new_df['full_path']==0].reset_index(drop=True)\n",
    "                    new_df_sub2 = new_df[new_df['full_path']!=0].reset_index(drop=True)\n",
    "            \n",
    "                    new_df_sub1['full_path'] = new_df_sub1['path_name']\n",
    "            \n",
    "                    new_df = pd.concat([new_df_sub1, new_df_sub2]).reset_index(drop=True)\n",
    "        \n",
    "                    final_df = pd.concat([final_df, new_df]).reset_index(drop=True)\n",
    "            \n",
    "                # For any previous levels, repeat the previous steps\n",
    "                elif (lev - 1) >= 0:\n",
    "                    df1 = new_df.copy()\n",
    "                    df2 = pd.DataFrame.from_dict(path_dict[lev-1], orient='index').reset_index()\n",
    "        \n",
    "                    df2.columns = ['path_name','pattern1_list','pattern2_list','pattern1','pattern2','count_pattern1','count_pattern2','event_type','level','new_intron_spliced','total_counts_level','freq','sub_path_score','path_score']\n",
    "        \n",
    "                    fields = ['pattern1','full_path']\n",
    "        \n",
    "                    new_df = df2.merge(df1[fields], left_on='pattern2', right_on='pattern1', how='left')\n",
    "                    new_df = new_df.rename(columns={'pattern1_x':'pattern1'}).drop(['pattern1_y','pattern1_list','pattern2_list'], axis=1)\n",
    "            \n",
    "                    new_df = new_df.fillna(0)\n",
    "            \n",
    "                    new_df_sub1 = new_df[new_df['full_path']==0].reset_index(drop=True)\n",
    "                    new_df_sub2 = new_df[new_df['full_path']!=0].reset_index(drop=True)\n",
    "            \n",
    "                    new_df_sub1['full_path'] = new_df_sub1['path_name']\n",
    "            \n",
    "                    new_df = pd.concat([new_df_sub1, new_df_sub2]).reset_index(drop=True)\n",
    "        \n",
    "                    final_df = pd.concat([final_df, new_df]).reset_index(drop=True)\n",
    "            \n",
    "            \n",
    "            # Now make sure that the start of the full path is the same as the path name, since merging on patterns as above\n",
    "            # will give rows where that is not the case\n",
    "            final_final_df = final_df[final_df.apply(lambda row: row.full_path.startswith(row.path_name), axis=1)].drop_duplicates().sort_values(by='level').reset_index(drop=True)\n",
    "    \n",
    "    \n",
    "            # Get the final score for the path and express it so that the total score of all final isoforms is 1\n",
    "            last_isos = final_final_df[~final_final_df['path_name'].str.endswith(\"->\")][['full_path','path_score']].drop_duplicates().reset_index(drop=True)\n",
    "            #last_isos2 = final_final_df[(final_final_df['path_name']==final_final_df['full_path']) & (final_final_df['full_path'].str.endswith(\"->\"))][['full_path','path_score']].drop_duplicates().reset_index(drop=True)\n",
    "            #last_isos = pd.concat([last_isos1, last_isos2]).reset_index(drop=True)\n",
    "            last_isos['full_path_score'] = last_isos['path_score'] / last_isos['path_score'].sum()\n",
    "            last_isos = last_isos.drop('path_score',axis=1).sort_values(by='full_path_score', ascending=False).reset_index(drop=True)\n",
    "            last_isos['rank'] = last_isos.index + 1\n",
    "    \n",
    "            # Modify the levels and rows where the unspliced isoform is pattern2\n",
    "            final_final_df['level'] = final_final_df['level'] + 1\n",
    "    \n",
    "            NO_df = final_final_df[final_final_df['level']==1].reset_index(drop=True)\n",
    "            NO_df['pattern2'] = NO_df['pattern1']\n",
    "            NO_df['count_pattern2'] = NO_df['count_pattern1']\n",
    "            NO_df['level'] = 0\n",
    "            NO_df['new_intron_spliced'] = 0\n",
    "    \n",
    "            final_final_df = pd.concat([final_final_df,NO_df]).sort_values(by='level').reset_index(drop=True)\n",
    "    \n",
    "            final_final_df = final_final_df.merge(last_isos, on='full_path')[['full_path','full_path_score','rank']].drop_duplicates().sort_values(by='rank').reset_index(drop=True)\n",
    "               \n",
    "            return(final_final_df)\n",
    "        \n",
    "        except ValueError:\n",
    "            pass\n",
    "        \n",
    "\n",
    "def get_random_reads(intron_list, probs, count_dict):\n",
    "\n",
    "    random_reads = []\n",
    "\n",
    "    for Level in count_dict.keys():\n",
    "        for i in range(count_dict[Level]):\n",
    "            spliced_introns = choice(intron_list, Level, p=probs, replace=False)\n",
    "            read_splice_status = []\n",
    "            for a in intron_list:\n",
    "                if a not in spliced_introns:\n",
    "                    read_splice_status.append(\"NO\")\n",
    "                elif a in spliced_introns:\n",
    "                    read_splice_status.append(\"YES\")\n",
    "            read_splice_status_join = \"_\".join(read_splice_status)\n",
    "            random_reads.append(read_splice_status_join)\n",
    "            \n",
    "    return(random_reads)\n",
    "\n",
    "\n",
    "def Evenness(path_scores, max_paths):\n",
    "    \n",
    "    H = round(abs(np.sum(np.log(path_scores) * path_scores)),2) \n",
    "    max_H = round(np.log(max_paths),2)\n",
    "    \n",
    "    E = round(H/max_H,2)\n",
    "    \n",
    "    return(E)"
   ]
  },
  {
   "cell_type": "code",
   "execution_count": 4,
   "id": "2c96869b",
   "metadata": {},
   "outputs": [],
   "source": [
    "# Simulate splicing and compute splicing order for groups of 3 introns\n",
    "results_list = []\n",
    "\n",
    "intron_list = [1,2,3]\n",
    "# probabilities of each intron getting excised\n",
    "prob_list = [[0.95,0.049,0.001],[0.85,0.14,0.01],[0.55,0.4,0.05],[0.4,0.35,0.25]]\n",
    "n_iterations = 100\n",
    "\n",
    "for probs in prob_list:\n",
    "    for N in [2,5,10,20,30,40,50]:\n",
    "        count_dict = {0:N, 1:N, 2:N, 3:N}\n",
    "        for i in range(n_iterations):\n",
    "            read_list = get_random_reads(intron_list, probs, count_dict)\n",
    "            path_df = get_score_per_path_non_consec(read_list, intron_list)\n",
    "            if path_df is not None:\n",
    "                path_df['read_count'] = N\n",
    "                scores = path_df[['full_path','full_path_score']].drop_duplicates()['full_path_score']\n",
    "                E = Evenness(scores, math.factorial(len(probs)))\n",
    "                path_df['Evenness'] = E\n",
    "                probs_join = \",\".join([str(a) for a in probs])\n",
    "                path_df['probs'] = probs_join\n",
    "                results_list.append(path_df)\n",
    "    \n",
    "results_df_triplets = pd.concat(results_list).reset_index(drop=True)\n"
   ]
  },
  {
   "cell_type": "code",
   "execution_count": 5,
   "id": "bd1c673c",
   "metadata": {},
   "outputs": [
    {
     "data": {
      "text/plain": [
       "probs\n",
       "0.4,0.35,0.25       0.866208\n",
       "0.55,0.4,0.05       0.522327\n",
       "0.85,0.14,0.01      0.320856\n",
       "0.95,0.049,0.001    0.156798\n",
       "Name: Evenness, dtype: float64"
      ]
     },
     "execution_count": 5,
     "metadata": {},
     "output_type": "execute_result"
    }
   ],
   "source": [
    "results_df_triplets.groupby(['probs'])['Evenness'].mean()"
   ]
  },
  {
   "cell_type": "code",
   "execution_count": 6,
   "id": "db95e394",
   "metadata": {},
   "outputs": [],
   "source": [
    "# Simulate splicing and compute splicing order for groups of 4 introns\n",
    "\n",
    "results_list = []\n",
    "\n",
    "intron_list = [1,2,3,4]\n",
    "# probabilities of each intron getting excised\n",
    "prob_list = [[0.95,0.039,0.01,0.001],[0.8,0.15,0.04,0.01],[0.5,0.3,0.15,0.05],[0.35,0.3,0.25,0.1]] # this is what we'll want to vary to look at different evenness values\n",
    "n_iterations = 100\n",
    "\n",
    "for probs in prob_list:\n",
    "    for N in [2,5,10,20,30,40,50]:\n",
    "        count_dict = {0:N, 1:N, 2:N, 3:N, 4:N}\n",
    "        for i in range(n_iterations):\n",
    "            read_list = get_random_reads(intron_list, probs, count_dict)\n",
    "            path_df = get_score_per_path_non_consec(read_list, intron_list)\n",
    "            if path_df is not None:\n",
    "                path_df['read_count'] = N\n",
    "                scores = path_df[['full_path','full_path_score']].drop_duplicates()['full_path_score']\n",
    "                E = Evenness(scores, math.factorial(len(probs)))\n",
    "                results_list.append(path_df)\n",
    "                path_df['Evenness'] = E\n",
    "                probs_join = \",\".join([str(a) for a in probs])\n",
    "                path_df['probs'] = probs_join\n",
    "    \n",
    "results_df_quads = pd.concat(results_list).reset_index(drop=True)"
   ]
  },
  {
   "cell_type": "code",
   "execution_count": 7,
   "id": "2528728a",
   "metadata": {},
   "outputs": [
    {
     "data": {
      "text/plain": [
       "probs\n",
       "0.35,0.3,0.25,0.1        0.732549\n",
       "0.5,0.3,0.15,0.05        0.580742\n",
       "0.8,0.15,0.04,0.01       0.393794\n",
       "0.95,0.039,0.01,0.001    0.264418\n",
       "Name: Evenness, dtype: float64"
      ]
     },
     "execution_count": 7,
     "metadata": {},
     "output_type": "execute_result"
    }
   ],
   "source": [
    "results_df_quads.groupby(['probs'])['Evenness'].mean()"
   ]
  },
  {
   "cell_type": "code",
   "execution_count": 8,
   "id": "1e982989",
   "metadata": {},
   "outputs": [],
   "source": [
    "results_df_triplets['n_introns'] = 3\n",
    "results_df_quads['n_introns'] = 4\n",
    "results_df = pd.concat([results_df_triplets,results_df_quads]).reset_index(drop=True)\n",
    "results_df.to_csv(\"/path/to/splicing_order_simulations_for_coverage.txt\", sep=\"\\t\", header=True, index=False)"
   ]
  },
  {
   "cell_type": "code",
   "execution_count": null,
   "id": "bb68f3a9",
   "metadata": {},
   "outputs": [],
   "source": []
  },
  {
   "cell_type": "markdown",
   "id": "6a39b60e",
   "metadata": {},
   "source": [
    "## Comparison to nano-COP"
   ]
  },
  {
   "cell_type": "code",
   "execution_count": 10,
   "id": "0a16bdd2",
   "metadata": {},
   "outputs": [],
   "source": [
    "# get the frequency of splicing order across reads that cover the same introns\n",
    "def get_pair_splcing_frequencies(intron_pairs_df):\n",
    "\n",
    "    pair_dict = {}\n",
    "\n",
    "    for i in range(0,len(intron_pairs_df)):\n",
    "\n",
    "        read = intron_pairs_df.iloc[i]['read']\n",
    "        chrom = intron_pairs_df.iloc[i]['chrom']\n",
    "        int1_start = intron_pairs_df.iloc[i]['int1_start']\n",
    "        int1_end = intron_pairs_df.iloc[i]['int1_end']\n",
    "        int2_start = intron_pairs_df.iloc[i]['int2_start']\n",
    "        int2_end = intron_pairs_df.iloc[i]['int2_end']\n",
    "        strand = intron_pairs_df.iloc[i]['strand']\n",
    "        int1_splice = intron_pairs_df.iloc[i]['int1_splice']\n",
    "        int2_splice = intron_pairs_df.iloc[i]['int2_splice']\n",
    "\n",
    "        pair_coord = str(chrom)+\"_\"+str(int1_start)+\"_\"+str(int1_end)+\"_\"+str(int2_start)+\"_\"+str(int2_end)+\"_\"+str(strand)\n",
    "\n",
    "        if (strand == \"-\"):\n",
    "            x = int1_splice\n",
    "            int1_splice = int2_splice\n",
    "            int2_splice = x\n",
    "\n",
    "        if pair_coord not in pair_dict.keys():\n",
    "\n",
    "            if (int1_splice==\"YES\") & (int2_splice==\"YES\"):\n",
    "                pair_dict[pair_coord] = [1,0,0,0]\n",
    "\n",
    "            if (int1_splice==\"YES\") & (int2_splice==\"NO\"):\n",
    "                pair_dict[pair_coord] = [0,1,0,0]\n",
    "\n",
    "            if (int1_splice==\"NO\") & (int2_splice==\"YES\"):\n",
    "                pair_dict[pair_coord] = [0,0,1,0]\n",
    "\n",
    "            if (int1_splice==\"NO\") & (int2_splice==\"NO\"):\n",
    "                pair_dict[pair_coord] = [0,0,0,1]\n",
    "\n",
    "        elif pair_coord in pair_dict.keys():\n",
    "            if (int1_splice==\"YES\") & (int2_splice==\"YES\"):\n",
    "                pair_dict[pair_coord][0] += 1\n",
    "\n",
    "            if (int1_splice==\"YES\") & (int2_splice==\"NO\"):\n",
    "                pair_dict[pair_coord][1] += 1\n",
    "\n",
    "            if (int1_splice==\"NO\") & (int2_splice==\"YES\"):\n",
    "                pair_dict[pair_coord][2] += 1\n",
    "\n",
    "            if (int1_splice==\"NO\") & (int2_splice==\"NO\"):\n",
    "                pair_dict[pair_coord][3] += 1\n",
    "\n",
    "    pair_df = pd.DataFrame.from_dict(pair_dict, orient='index')\n",
    "    pair_df.columns = ['YES_YES','YES_NO','NO_YES','NO_NO']   \n",
    "\n",
    "    return pair_df"
   ]
  },
  {
   "cell_type": "code",
   "execution_count": 11,
   "id": "d58060ea",
   "metadata": {},
   "outputs": [],
   "source": [
    "# Load nano-COP data\n",
    "K562_intron_pairs_df = pd.read_table(\"/path/to/K562_all_nanoCOP_hg38_intron_pairs_df.txt\", dtype={'chrom':'str'})\n"
   ]
  },
  {
   "cell_type": "code",
   "execution_count": 12,
   "id": "f698711f",
   "metadata": {},
   "outputs": [],
   "source": [
    "# get intron pair splicing order frequencies for nano-COP\n",
    "K562_pair_spicing_freq = get_pair_splcing_frequencies(K562_intron_pairs_df)"
   ]
  },
  {
   "cell_type": "code",
   "execution_count": 13,
   "id": "9e237ca3",
   "metadata": {},
   "outputs": [],
   "source": [
    "read_threshold = 10\n",
    "\n",
    "top_K562_pair_spicing_freq = K562_pair_spicing_freq.copy()[K562_pair_spicing_freq['YES_NO']+K562_pair_spicing_freq['NO_YES'] >= read_threshold]\n",
    "\n",
    "top_K562_pair_spicing_freq['intron_coord'] = top_K562_pair_spicing_freq.index\n",
    "\n",
    "top_K562_pair_spicing_freq = top_K562_pair_spicing_freq.reset_index(drop=True)\n",
    "top_K562_pair_spicing_freq['chrom'] = top_K562_pair_spicing_freq['intron_coord'].str.split(\"_\").str[0]\n",
    "top_K562_pair_spicing_freq['start1'] = top_K562_pair_spicing_freq['intron_coord'].str.split(\"_\").str[1].astype(int)\n",
    "top_K562_pair_spicing_freq['end1'] = top_K562_pair_spicing_freq['intron_coord'].str.split(\"_\").str[2].astype(int)\n",
    "top_K562_pair_spicing_freq['start2'] = top_K562_pair_spicing_freq['intron_coord'].str.split(\"_\").str[3].astype(int)\n",
    "top_K562_pair_spicing_freq['end2'] = top_K562_pair_spicing_freq['intron_coord'].str.split(\"_\").str[4].astype(int)\n",
    "top_K562_pair_spicing_freq['strand'] = top_K562_pair_spicing_freq['intron_coord'].str.split(\"_\").str[5]"
   ]
  },
  {
   "cell_type": "code",
   "execution_count": 14,
   "id": "2bec6117",
   "metadata": {},
   "outputs": [],
   "source": [
    "# Load polyA+ chromatin RNA-seq data\n",
    "repA_intron_pairs_df = pd.read_table(\"/path/to/K562_chr_repA_merged_hg38_intron_pairs_df.RefSeq.txt\", dtype={'chrom':'str'})\n",
    "repB_intron_pairs_df = pd.read_table(\"/path/to/K562_chr_repB_merged_hg38_intron_pairs_df.RefSeq.txt\", dtype={'chrom':'str'})\n"
   ]
  },
  {
   "cell_type": "code",
   "execution_count": 15,
   "id": "d8b0f630",
   "metadata": {},
   "outputs": [],
   "source": [
    "# Merge polyA+ pairs with nano-COP pairs\n",
    "fields = ['chrom','start1','end1','start2','end2','strand']\n",
    "repA_intron_pairs_df_sub = repA_intron_pairs_df.merge(top_K562_pair_spicing_freq, left_on=['chrom','int1_start','int1_end','int2_start','int2_end','strand'], right_on=['chrom','start1','end1','start2','end2','strand'])\n",
    "repB_intron_pairs_df_sub = repB_intron_pairs_df.merge(top_K562_pair_spicing_freq, left_on=['chrom','int1_start','int1_end','int2_start','int2_end','strand'], right_on=['chrom','start1','end1','start2','end2','strand'])"
   ]
  },
  {
   "cell_type": "code",
   "execution_count": 16,
   "id": "610d8049",
   "metadata": {},
   "outputs": [],
   "source": [
    "# get intron pair splicing order frequencies for polyA+ data\n",
    "repA_pair_spicing_freq = get_pair_splcing_frequencies(repA_intron_pairs_df_sub)\n",
    "repA_pair_spicing_freq['intron_coord'] = repA_pair_spicing_freq.index\n",
    "\n",
    "repB_pair_spicing_freq = get_pair_splcing_frequencies(repB_intron_pairs_df_sub)\n",
    "repB_pair_spicing_freq['intron_coord'] = repB_pair_spicing_freq.index"
   ]
  },
  {
   "cell_type": "code",
   "execution_count": 17,
   "id": "6686863f",
   "metadata": {},
   "outputs": [],
   "source": [
    "# Filter for minimum read coverage\n",
    "repA_pair_spicing_filt = repA_pair_spicing_freq[repA_pair_spicing_freq['YES_NO']+repA_pair_spicing_freq['NO_YES'] >= read_threshold]\n",
    "repB_pair_spicing_filt = repB_pair_spicing_freq[repB_pair_spicing_freq['YES_NO']+repB_pair_spicing_freq['NO_YES'] >= read_threshold]\n",
    "\n",
    "# Merge results together\n",
    "both_df = top_K562_pair_spicing_freq.merge(repA_pair_spicing_filt, on='intron_coord').merge(repB_pair_spicing_filt, on='intron_coord')\n",
    "\n",
    "# Write to file for further plotting in R\n",
    "both_df.to_csv(\"/path/to/K562_nanoCOP_vs_polyA_intron_pairs.txt\", sep=\"\\t\", header=True, index=False)"
   ]
  },
  {
   "cell_type": "code",
   "execution_count": null,
   "id": "df0b964c",
   "metadata": {},
   "outputs": [],
   "source": []
  },
  {
   "cell_type": "code",
   "execution_count": null,
   "id": "aa587213",
   "metadata": {},
   "outputs": [],
   "source": []
  },
  {
   "cell_type": "code",
   "execution_count": null,
   "id": "721086d3",
   "metadata": {},
   "outputs": [],
   "source": []
  },
  {
   "cell_type": "code",
   "execution_count": null,
   "id": "eabbcf03",
   "metadata": {},
   "outputs": [],
   "source": []
  },
  {
   "cell_type": "code",
   "execution_count": null,
   "id": "865dc42f",
   "metadata": {},
   "outputs": [],
   "source": []
  },
  {
   "cell_type": "code",
   "execution_count": null,
   "id": "a04b6be5",
   "metadata": {},
   "outputs": [],
   "source": []
  }
 ],
 "metadata": {
  "kernelspec": {
   "display_name": "Python 3",
   "language": "python",
   "name": "python3"
  },
  "language_info": {
   "codemirror_mode": {
    "name": "ipython",
    "version": 3
   },
   "file_extension": ".py",
   "mimetype": "text/x-python",
   "name": "python",
   "nbconvert_exporter": "python",
   "pygments_lexer": "ipython3",
   "version": "3.8.8"
  }
 },
 "nbformat": 4,
 "nbformat_minor": 5
}
